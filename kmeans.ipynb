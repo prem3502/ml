{
 "cells": [
  {
   "cell_type": "code",
   "execution_count": 2,
   "id": "f3f83179",
   "metadata": {
    "id": "f3f83179"
   },
   "outputs": [],
   "source": [
    "import pandas as pd\n",
    "import copy\n",
    "import numpy as np\n",
    "from numpy import linalg as LA\n",
    "import matplotlib.pyplot as plt"
   ]
  },
  {
   "cell_type": "code",
   "execution_count": 3,
   "id": "d98a4d73",
   "metadata": {
    "colab": {
     "base_uri": "https://localhost:8080/",
     "height": 311
    },
    "id": "d98a4d73",
    "outputId": "f4bef8c4-4f0c-4f1d-818b-e93f44d8ea16"
   },
   "outputs": [],
   "source": [
    "df=pd.read_csv('kmean.csv')\n"
   ]
  },
  {
   "cell_type": "code",
   "execution_count": 4,
   "id": "1530becf",
   "metadata": {
    "id": "1530becf"
   },
   "outputs": [
    {
     "data": {
      "text/html": [
       "<div>\n",
       "<style scoped>\n",
       "    .dataframe tbody tr th:only-of-type {\n",
       "        vertical-align: middle;\n",
       "    }\n",
       "\n",
       "    .dataframe tbody tr th {\n",
       "        vertical-align: top;\n",
       "    }\n",
       "\n",
       "    .dataframe thead th {\n",
       "        text-align: right;\n",
       "    }\n",
       "</style>\n",
       "<table border=\"1\" class=\"dataframe\">\n",
       "  <thead>\n",
       "    <tr style=\"text-align: right;\">\n",
       "      <th></th>\n",
       "      <th>X1</th>\n",
       "      <th>X2</th>\n",
       "    </tr>\n",
       "  </thead>\n",
       "  <tbody>\n",
       "    <tr>\n",
       "      <th>0</th>\n",
       "      <td>5.9</td>\n",
       "      <td>3.2</td>\n",
       "    </tr>\n",
       "    <tr>\n",
       "      <th>1</th>\n",
       "      <td>4.6</td>\n",
       "      <td>2.9</td>\n",
       "    </tr>\n",
       "    <tr>\n",
       "      <th>2</th>\n",
       "      <td>6.2</td>\n",
       "      <td>2.8</td>\n",
       "    </tr>\n",
       "    <tr>\n",
       "      <th>3</th>\n",
       "      <td>4.7</td>\n",
       "      <td>3.2</td>\n",
       "    </tr>\n",
       "    <tr>\n",
       "      <th>4</th>\n",
       "      <td>5.5</td>\n",
       "      <td>4.2</td>\n",
       "    </tr>\n",
       "    <tr>\n",
       "      <th>5</th>\n",
       "      <td>5.0</td>\n",
       "      <td>3.0</td>\n",
       "    </tr>\n",
       "    <tr>\n",
       "      <th>6</th>\n",
       "      <td>4.9</td>\n",
       "      <td>3.1</td>\n",
       "    </tr>\n",
       "    <tr>\n",
       "      <th>7</th>\n",
       "      <td>6.7</td>\n",
       "      <td>3.1</td>\n",
       "    </tr>\n",
       "    <tr>\n",
       "      <th>8</th>\n",
       "      <td>5.1</td>\n",
       "      <td>3.8</td>\n",
       "    </tr>\n",
       "    <tr>\n",
       "      <th>9</th>\n",
       "      <td>6.0</td>\n",
       "      <td>3.0</td>\n",
       "    </tr>\n",
       "  </tbody>\n",
       "</table>\n",
       "</div>"
      ],
      "text/plain": [
       "    X1   X2\n",
       "0  5.9  3.2\n",
       "1  4.6  2.9\n",
       "2  6.2  2.8\n",
       "3  4.7  3.2\n",
       "4  5.5  4.2\n",
       "5  5.0  3.0\n",
       "6  4.9  3.1\n",
       "7  6.7  3.1\n",
       "8  5.1  3.8\n",
       "9  6.0  3.0"
      ]
     },
     "execution_count": 4,
     "metadata": {},
     "output_type": "execute_result"
    }
   ],
   "source": [
    "df"
   ]
  },
  {
   "cell_type": "code",
   "execution_count": 5,
   "id": "4dd0ec6a",
   "metadata": {
    "id": "4dd0ec6a"
   },
   "outputs": [],
   "source": [
    "X=df.to_numpy()\n"
   ]
  },
  {
   "cell_type": "code",
   "execution_count": 6,
   "id": "adf64b49",
   "metadata": {
    "id": "adf64b49"
   },
   "outputs": [],
   "source": [
    "k=3"
   ]
  },
  {
   "cell_type": "code",
   "execution_count": 7,
   "id": "ddfee9f6",
   "metadata": {
    "id": "ddfee9f6"
   },
   "outputs": [],
   "source": [
    "centroid_old=[[0,0]]*k\n",
    "centroid=[[6.2,3.2],[6.6,3.7],[6.5,3.0]]"
   ]
  },
  {
   "cell_type": "code",
   "execution_count": 8,
   "id": "94fdd4e7",
   "metadata": {
    "id": "94fdd4e7"
   },
   "outputs": [],
   "source": [
    "centroid=np.array(centroid)\n",
    "centroid_old=np.array(centroid_old)"
   ]
  },
  {
   "cell_type": "code",
   "execution_count": 9,
   "id": "6c07dd40",
   "metadata": {
    "id": "6c07dd40"
   },
   "outputs": [
    {
     "data": {
      "text/plain": [
       "[0, 0, 0, 0, 0, 0, 0, 0, 0, 0]"
      ]
     },
     "execution_count": 9,
     "metadata": {},
     "output_type": "execute_result"
    }
   ],
   "source": [
    "cluster=[0]*len(X)\n",
    "cluster"
   ]
  },
  {
   "cell_type": "code",
   "execution_count": 10,
   "id": "a08d140c",
   "metadata": {
    "id": "a08d140c"
   },
   "outputs": [],
   "source": [
    "def euclidean(a,b,ax=1):\n",
    "    return LA.norm(a-b,axis=ax)"
   ]
  },
  {
   "cell_type": "code",
   "execution_count": 11,
   "id": "56c14e0d",
   "metadata": {
    "id": "56c14e0d"
   },
   "outputs": [
    {
     "name": "stdout",
     "output_type": "stream",
     "text": [
      "12.53714481052205\n"
     ]
    }
   ],
   "source": [
    "error=euclidean(centroid,centroid_old,None)\n",
    "print(error)"
   ]
  },
  {
   "cell_type": "code",
   "execution_count": 12,
   "id": "0dee51fb",
   "metadata": {
    "colab": {
     "base_uri": "https://localhost:8080/",
     "height": 235
    },
    "id": "0dee51fb",
    "outputId": "8d64e603-5dc5-4e5b-e2c7-021de88ac67f"
   },
   "outputs": [
    {
     "name": "stdout",
     "output_type": "stream",
     "text": [
      "cluster after 1 iteration =\n",
      "[0, 0, 2, 0, 1, 0, 0, 2, 0, 0]\n",
      "current centroids are \n",
      "[[6.2 3.2]\n",
      " [6.6 3.7]\n",
      " [6.5 3. ]]\n",
      "Error...= 1.588639515498743\n",
      "cluster after 2 iteration =\n",
      "[2, 0, 2, 0, 1, 0, 0, 2, 1, 2]\n",
      "current centroids are \n",
      "[[5.17142857 3.17142857]\n",
      " [5.5        4.2       ]\n",
      " [6.45       2.95      ]]\n",
      "Error...= 0.548478879841925\n",
      "cluster after 3 iteration =\n",
      "[2, 0, 2, 0, 1, 0, 0, 2, 1, 2]\n",
      "current centroids are \n",
      "[[4.8   3.05 ]\n",
      " [5.3   4.   ]\n",
      " [6.2   3.025]]\n",
      "Error...= 0.0\n"
     ]
    }
   ],
   "source": [
    "itr=0\n",
    "while error!=0:\n",
    "    itr=itr+1\n",
    "    for i in range((len(X))):\n",
    "     distances=euclidean(X[i],centroid)\n",
    "     cluster[i]=np.argmin(distances)\n",
    "    centroid_old=copy.deepcopy(centroid)\n",
    "\n",
    "    print(\"cluster after \"+str(itr)+\" iteration =\")\n",
    "    print(cluster)\n",
    "    print(\"current centroids are \")\n",
    "    print(centroid)\n",
    "    \n",
    "\n",
    "    for p in range(k):\n",
    "        points=[X[j] for j in range((len(X))) if cluster[j]==p]\n",
    "        centroid[p]=np.mean(points,axis=0)\n",
    "    \n",
    "    error=euclidean(centroid,centroid_old,None)\n",
    "    print(\"Error...=\",error)"
   ]
  },
  {
   "cell_type": "code",
   "execution_count": 13,
   "id": "9e6e7428",
   "metadata": {
    "id": "9e6e7428"
   },
   "outputs": [
    {
     "name": "stdout",
     "output_type": "stream",
     "text": [
      "[2, 0, 2, 0, 1, 0, 0, 2, 1, 2]\n",
      "[[4.8   3.05 ]\n",
      " [5.3   4.   ]\n",
      " [6.2   3.025]]\n"
     ]
    }
   ],
   "source": [
    "print(cluster)\n",
    "print(centroid)"
   ]
  },
  {
   "cell_type": "code",
   "execution_count": 14,
   "id": "1b683168",
   "metadata": {
    "id": "1b683168"
   },
   "outputs": [
    {
     "data": {
      "text/plain": [
       "<matplotlib.collections.PathCollection at 0x25c1e6197e0>"
      ]
     },
     "execution_count": 14,
     "metadata": {},
     "output_type": "execute_result"
    },
    {
     "data": {
      "image/png": "[encoded data removed]",
      "text/plain": [
       "<Figure size 640x480 with 1 Axes>"
      ]
     },
     "metadata": {},
     "output_type": "display_data"
    }
   ],
   "source": [
    "\n",
    "plt.scatter(df['X1'], df['X2'], c=cluster, s=50)"
   ]
  },
  {
   "cell_type": "code",
   "execution_count": null,
   "id": "d03d0456",
   "metadata": {
    "id": "d03d0456"
   },
   "outputs": [],
   "source": []
  }
 ],
 "metadata": {
  "colab": {
   "provenance": []
  },
  "kernelspec": {
   "display_name": "Python 3 (ipykernel)",
   "language": "python",
   "name": "python3"
  },
  "language_info": {
   "codemirror_mode": {
    "name": "ipython",
    "version": 3
   },
   "file_extension": ".py",
   "mimetype": "text/x-python",
   "name": "python",
   "nbconvert_exporter": "python",
   "pygments_lexer": "ipython3",
   "version": "3.10.4"
  }
 },
 "nbformat": 4,
 "nbformat_minor": 5
}
